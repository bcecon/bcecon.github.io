{
  "cells": [
    {
      "cell_type": "markdown",
      "metadata": {},
      "source": [
        "# Introduction to Python\n",
        "\n",
        "## What is Python?\n",
        "\n",
        "Python is a high-level, interpreted programming language. This is a\n",
        "simple Python code:"
      ],
      "id": "f7450f18-016c-4a5b-93d7-b660a29ded01"
    },
    {
      "cell_type": "code",
      "execution_count": 1,
      "metadata": {},
      "outputs": [
        {
          "output_type": "stream",
          "name": "stdout",
          "text": [
            "Hello, World!"
          ]
        }
      ],
      "source": [],
      "id": "49566562"
    },
    {
      "cell_type": "markdown",
      "metadata": {},
      "source": [
        "## Variables and Data Types\n",
        "\n",
        "In Python, variables can store data of different types without\n",
        "explicitly declaring the type.\n",
        "\n",
        "For example:\n",
        "\n",
        "## Control Structures\n",
        "\n",
        "Python supports the usual logical conditions from mathematics:\n",
        "\n",
        "These conditions can be used in several ways, most commonly in ‘if\n",
        "statements’ and loops."
      ],
      "id": "f23a9b92-b047-429f-b38d-a8b343d243cf"
    },
    {
      "cell_type": "code",
      "execution_count": 4,
      "metadata": {},
      "outputs": [
        {
          "output_type": "stream",
          "name": "stdout",
          "text": [
            "Five is greater than two!"
          ]
        }
      ],
      "source": [],
      "id": "cabd480d"
    },
    {
      "cell_type": "markdown",
      "metadata": {},
      "source": [
        "## Functions\n",
        "\n",
        "A function is a block of code which only runs when it is called.\n",
        "\n",
        "You can pass data, known as parameters, into a function.\n",
        "\n",
        "A function can return data as a result."
      ],
      "id": "51c6263b-3821-437a-acb2-ac52a51147a8"
    },
    {
      "cell_type": "code",
      "execution_count": 5,
      "metadata": {},
      "outputs": [
        {
          "output_type": "stream",
          "name": "stdout",
          "text": [
            "Hello from a function"
          ]
        }
      ],
      "source": [],
      "id": "e0106897"
    },
    {
      "cell_type": "markdown",
      "metadata": {},
      "source": [
        "## Lists and Dictionaries\n",
        "\n",
        "A list is a collection which is ordered and changeable.\n",
        "\n",
        "A dictionary is a collection which is unordered, changeable and indexed."
      ],
      "id": "52a1fb15-6199-4b14-9dc9-9eb6917e5130"
    }
  ],
  "nbformat": 4,
  "nbformat_minor": 5,
  "metadata": {
    "kernelspec": {
      "name": "python3",
      "display_name": "Python 3 (ipykernel)",
      "language": "python"
    },
    "language_info": {
      "name": "python",
      "codemirror_mode": {
        "name": "ipython",
        "version": "3"
      },
      "file_extension": ".py",
      "mimetype": "text/x-python",
      "nbconvert_exporter": "python",
      "pygments_lexer": "ipython3",
      "version": "3.11.5"
    }
  }
}